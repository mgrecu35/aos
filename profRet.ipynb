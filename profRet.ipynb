{
 "cells": [
  {
   "cell_type": "code",
   "execution_count": 1,
   "metadata": {},
   "outputs": [
    {
     "name": "stdout",
     "output_type": "stream",
     "text": [
      "89\n"
     ]
    }
   ],
   "source": [
    "import glob\n",
    "import netCDF4 as nc\n",
    "import numpy as np\n",
    "import matplotlib.pyplot as plt\n",
    "\n",
    "fs=glob.glob('/Users/mgrecu/GPM/2ADPR_tiles/*.nc')\n",
    "fs=sorted(fs)\n",
    "print(len(fs))"
   ]
  },
  {
   "cell_type": "code",
   "execution_count": 4,
   "metadata": {},
   "outputs": [],
   "source": [
    "sfcPrecipL=[]\n",
    "pTypeL=[]\n",
    "zKuL=[]\n",
    "bzdL=[]\n",
    "bsfcL=[]\n",
    "bcfL=[]\n",
    "stormTopL=[]\n",
    "for f in fs[:]:\n",
    "    with nc.Dataset(f) as fh:\n",
    "        #print(fh.variables.keys())\n",
    "        stormTop=fh.variables['stormTop'][:]\n",
    "        sfcPrecip=fh.variables['sfcPrecip'][:]\n",
    "        sfcPrecipW=fh.variables['sfcPrecipW'][:]\n",
    "        pType=fh.variables['pType'][:]\n",
    "        bzd=fh.variables['bzd'][:]\n",
    "        bsfc=fh.variables['bsfc'][:]\n",
    "        bcf=fh.variables['bcf'][:]\n",
    "        a=np.nonzero(pType[:,5,5]>=0)\n",
    "        b=np.nonzero(bzd[a[0],5,5]<160)\n",
    "        zKu=fh.variables['zKu'][:]\n",
    "        zKuL.extend(zKu[a[0][b],5,5,:])\n",
    "        stormTopL.extend(stormTop[a[0][b],5,5])\n",
    "        bzdL.extend(bzd[a[0][b],5,5])\n",
    "        bcfL.extend(bcf[a[0][b],5,5])\n",
    "        bsfcL.extend(bsfc[a[0][b],5,5])\n",
    "        sfcPrecipL.extend(sfcPrecipW[a[0][b],5,5])\n",
    "        pTypeL.extend(pType[a[0][b],5,5])\n",
    "    #break"
   ]
  },
  {
   "cell_type": "code",
   "execution_count": 3,
   "metadata": {},
   "outputs": [
    {
     "name": "stdout",
     "output_type": "stream",
     "text": [
      "66497\n"
     ]
    }
   ],
   "source": [
    "print(len(sfcPrecipL))"
   ]
  },
  {
   "cell_type": "code",
   "execution_count": 54,
   "metadata": {},
   "outputs": [],
   "source": [
    "\n",
    "alpha_st=[0.0000861,0.0001084,0.0004142,0.000282,0.000285]\n",
    "alpha_cv=[0.0000861,0.0001109,0.0004109,0.0004109,0.0004172]\n",
    "beta_st=0.792\n",
    "beta_cv=0.7713\n",
    "dr=0.125\n",
    "a_st,b_st=0.02282,0.6727\n",
    "a_cv,b_cv=0.0424,0.6434\n",
    "def hb(zKum,alpha,beta,dr,srt_piaKu):\n",
    "    q=0.2*np.log(10)\n",
    "    zeta=q*beta*alpha*10**(0.1*zKum*beta)*dr\n",
    "    zetamax=1.-10**(-srt_piaKu/10.*beta)\n",
    "    #zetamax=1.-10**(-4.0/10.*beta)\n",
    "    if zeta.cumsum()[-1]>zetamax:\n",
    "        eps=0.9999*zetamax/zeta.cumsum()[-1]\n",
    "        zeta=eps*zeta\n",
    "    else:\n",
    "        eps=1.0\n",
    "    corrc=eps*zeta.cumsum()\n",
    "    zc=zKum-10/beta*np.log10(1-corrc)\n",
    "    return zc,eps"
   ]
  },
  {
   "cell_type": "code",
   "execution_count": 59,
   "metadata": {},
   "outputs": [
    {
     "name": "stdout",
     "output_type": "stream",
     "text": [
      "0.2958124\n"
     ]
    }
   ],
   "source": [
    "sfcPrecipL=np.array(sfcPrecipL)\n",
    "a=np.nonzero(sfcPrecipL>8)\n",
    "print(sfcPrecipL[a[0]].sum()/sfcPrecipL.sum())\n",
    "pst1_L=[]\n",
    "pst2_L=[]\n",
    "pcv1_L=[]\n",
    "pcv2_L=[]\n",
    "for i,zKu1 in enumerate(zKuL):\n",
    "    bzd1=bzdL[i]\n",
    "    bcf1=bcfL[i]\n",
    "    stormTop1=stormTopL[i]\n",
    "    itop=176-int(stormTop1/125)-5\n",
    "    #print(bsfc1,bzd1,)\n",
    "    dn_st=-0.2\n",
    "    dn_cv=-0.5\n",
    "    if pTypeL[i]==1 and bcf1>bzd1+2 and itop<bzd1-2:\n",
    "        alpha=alpha_st\n",
    "        beta=beta_st\n",
    "        a=a_st\n",
    "        b=b_st\n",
    "        node=[itop,bzd1-2,bzd1,bzd1+2,bcf1]\n",
    "        alpha=np.interp(range(itop,bcf1),node,alpha_st)\n",
    "        alpha*=10**(dn_st*(1-beta_st))\n",
    "        zku_true,eps=hb(zKu1[itop:bcf1],alpha,beta_st,dr,4)\n",
    "        sfcRainRate_hb=a_st*10**(dn_st*(1-b_st))*10**(0.1*zku_true[-1]*b_st)\n",
    "        pst1_L.append(sfcRainRate_hb)\n",
    "        pst2_L.append(sfcPrecipL[i])\n",
    "    if pTypeL[i]==2 and bcf1>bzd1+2 and itop<bzd1-2:\n",
    "        alpha=alpha_cv\n",
    "        beta=beta_cv\n",
    "        node=[itop,bzd1-1,bzd1,bzd1+2,bcf1]\n",
    "        alpha=np.interp(range(itop,bcf1),node,alpha_cv)\n",
    "        alpha*=10**(dn_cv*(1-beta_cv))\n",
    "        zku_true,eps=hb(zKu1[itop:bcf1],alpha,beta_cv,dr,10)\n",
    "        sfcRainRate_hb=a_cv*10**(dn_cv*(1-b_cv))*10**(0.1*zku_true[-1]*b_cv)\n",
    "        #print('hb',sfcRainRate_hb,sfcPrecipL[i],zku_true[-1])\n",
    "        pcv1_L.append(sfcRainRate_hb)\n",
    "        pcv2_L.append(sfcPrecipL[i])\n",
    "    #break\n",
    "    "
   ]
  },
  {
   "cell_type": "code",
   "execution_count": 3,
   "metadata": {},
   "outputs": [
    {
     "name": "stdout",
     "output_type": "stream",
     "text": [
      "1.0\n",
      "66497\n"
     ]
    },
    {
     "data": {
      "image/png": "[encoded data removed]",
      "text/plain": [
       "<Figure size 640x480 with 1 Axes>"
      ]
     },
     "metadata": {},
     "output_type": "display_data"
    }
   ],
   "source": [
    "h1=plt.hist(sfcPrecipL,bins=np.arange(1,21)*0.5)\n",
    "pTypeL=np.array(pTypeL)\n",
    "a=np.where(pTypeL>0)\n",
    "print(len(a[0])/len(pTypeL))\n",
    "print(len(a[0]))"
   ]
  }
 ],
 "metadata": {
  "kernelspec": {
   "display_name": "base",
   "language": "python",
   "name": "python3"
  },
  "language_info": {
   "codemirror_mode": {
    "name": "ipython",
    "version": 3
   },
   "file_extension": ".py",
   "mimetype": "text/x-python",
   "name": "python",
   "nbconvert_exporter": "python",
   "pygments_lexer": "ipython3",
   "version": "3.9.13"
  }
 },
 "nbformat": 4,
 "nbformat_minor": 2
}
