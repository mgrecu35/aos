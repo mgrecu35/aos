{
 "cells": [
  {
   "cell_type": "code",
   "execution_count": 1,
   "metadata": {},
   "outputs": [],
   "source": [
    "#zFL_=xr.DataArray(patchDataL[:,:,0],dims=['nrec','npix'])\n",
    "#zetaFL_=xr.DataArray(patchDataL[:,:,1],dims=['nrec','npix'])\n",
    "#sfcPrecip_hb_=xr.DataArray(patchDataL[:,:,2],dims=['nrec','npix'])\n",
    "#pType_=xr.DataArray(patchDataL[:,:,3],dims=['nrec','npix'])\n",
    "#piaFinal_=xr.DataArray(patchDataL[:,:,4],dims=['nrec','npix'])\n",
    "#sfcPrecip_=xr.DataArray(patchDataL[:,:,5],dims=['nrec','npix'])\n",
    "#patchData_=xr.DataArray(patchDataL,dims=['nrec','npix','nvar'])\n",
    "\n",
    "import netCDF4 as nc\n",
    "import numpy as np\n",
    "import matplotlib.pyplot as plt\n",
    "\n",
    "with nc.Dataset(\"patchData.nc\") as f:\n",
    "    patchData = f.variables['patchData'][:]"
   ]
  },
  {
   "cell_type": "code",
   "execution_count": 10,
   "metadata": {},
   "outputs": [
    {
     "name": "stdout",
     "output_type": "stream",
     "text": [
      "0.0\n",
      "32.21044157293584 0.8150176109768111 0\n",
      "5482.270385064962 79.10996947502059 1\n",
      "13.278254012809187 0.011654603160635954 2\n",
      "2.6962777604003754 0.09557873549931321 3\n",
      "2.280054430183103 0.00708301350495799 4\n",
      "11.131822047797755 0.014545227379363496 5\n"
     ]
    }
   ],
   "source": [
    "patchData[:,:,0][patchData[:,:,0]<0]=0\n",
    "print(patchData[:,:,5].min())\n",
    "for i in range(6):\n",
    "    print(patchData[:,:,i].max(axis=1).mean(),patchData[:,:,i].min(axis=1).mean(),i)\n",
    "nt=patchData.shape[0]\n",
    "dpia=np.random.randn(nt,10,10)*2\n",
    "xdata=np.zeros((patchData.shape[0],10,10,5))\n",
    "xdata[:,:,:,0]=(patchData[:,:,0].reshape(nt,10,10)-20)/10\n",
    "xdata[:,:,:,1]=np.log10(1+patchData[:,:,1].reshape(nt,10,10)/100.)\n",
    "xdata[:,:,:,2]=np.log10(1+patchData[:,:,2].reshape(nt,10,10)/10.)\n",
    "xdata[:,:,:,3]=patchData[:,:,3].reshape(nt,10,10)\n",
    "piaN=patchData[:,:,4].reshape(nt,10,10)+dpia\n",
    "piaN[piaN<0]=0\n",
    "xdata[:,:,:,4]=np.log10(1+piaN/10.)\n",
    "\n",
    "ydata=np.log10(1+patchData[:,:,5].mean(axis=1)/10.)\n",
    "y_hb=np.log10(1+patchData[:,:,2].mean(axis=1)/10.)\n",
    "\n",
    "\n",
    "\n"
   ]
  },
  {
   "cell_type": "code",
   "execution_count": 11,
   "metadata": {},
   "outputs": [],
   "source": [
    "from sklearn.model_selection import train_test_split\n",
    "xtrain, xtest, ytrain, ytest = train_test_split(xdata, ydata, test_size=0.2, random_state=42)\n"
   ]
  },
  {
   "cell_type": "code",
   "execution_count": 14,
   "metadata": {},
   "outputs": [
    {
     "name": "stdout",
     "output_type": "stream",
     "text": [
      "Model: \"model_2\"\n",
      "_________________________________________________________________\n",
      " Layer (type)                Output Shape              Param #   \n",
      "=================================================================\n",
      " input_3 (InputLayer)        [(None, 10, 10, 5)]       0         \n",
      "                                                                 \n",
      " conv2d_4 (Conv2D)           (None, 8, 8, 16)          736       \n",
      "                                                                 \n",
      " conv2d_5 (Conv2D)           (None, 6, 6, 32)          4640      \n",
      "                                                                 \n",
      " flatten_2 (Flatten)         (None, 1152)              0         \n",
      "                                                                 \n",
      " dense_4 (Dense)             (None, 32)                36896     \n",
      "                                                                 \n",
      " dropout_2 (Dropout)         (None, 32)                0         \n",
      "                                                                 \n",
      " dense_5 (Dense)             (None, 1)                 33        \n",
      "                                                                 \n",
      "=================================================================\n",
      "Total params: 42305 (165.25 KB)\n",
      "Trainable params: 42305 (165.25 KB)\n",
      "Non-trainable params: 0 (0.00 Byte)\n",
      "_________________________________________________________________\n"
     ]
    }
   ],
   "source": [
    "#define tensorflow convnet that predicts y from x\n",
    "import tensorflow as tf\n",
    "from tensorflow import keras    \n",
    "from tensorflow.keras import layers\n",
    "from tensorflow.keras import backend as K\n",
    "from tensorflow.keras import regularizers\n",
    "from tensorflow.keras import optimizers\n",
    "from tensorflow.keras import initializers\n",
    "from tensorflow.keras import models\n",
    "from tensorflow.keras import losses\n",
    "from tensorflow.keras import metrics\n",
    "from tensorflow.keras import callbacks\n",
    "from tensorflow.keras import utils\n",
    "\n",
    "def convnet():\n",
    "    inputs = keras.Input(shape=(10,10,5))\n",
    "    x = layers.Conv2D(16, 3, activation=\"relu\")(inputs)\n",
    "    x = layers.Conv2D(32, 3, activation=\"relu\")(x)\n",
    "    x = layers.Flatten()(x)\n",
    "    x = layers.Dense(32, activation=\"relu\")(x)\n",
    "    x = layers.Dropout(0.25)(x)\n",
    "    outputs = layers.Dense(1, activation=\"linear\")(x)\n",
    "    return keras.Model(inputs=inputs, outputs=outputs)\n",
    "\n",
    "model = convnet()\n",
    "model.summary()"
   ]
  },
  {
   "cell_type": "code",
   "execution_count": 16,
   "metadata": {},
   "outputs": [
    {
     "name": "stdout",
     "output_type": "stream",
     "text": [
      "Epoch 1/2\n",
      "1839/1839 [==============================] - 4s 2ms/step - loss: 1.8465e-04 - mse: 1.8465e-04 - mae: 0.0075 - val_loss: 6.9584e-05 - val_mse: 6.9584e-05 - val_mae: 0.0049\n",
      "Epoch 2/2\n",
      "1839/1839 [==============================] - 4s 2ms/step - loss: 1.7710e-04 - mse: 1.7710e-04 - mae: 0.0074 - val_loss: 6.6162e-05 - val_mse: 6.6162e-05 - val_mae: 0.0059\n"
     ]
    }
   ],
   "source": [
    "#model.compile(loss='mse', optimizer='adam', metrics=['mse','mae'])\n",
    "history = model.fit(xtrain, ytrain, epochs=2, batch_size=32, validation_data=(xtest,ytest), verbose=1)"
   ]
  },
  {
   "cell_type": "code",
   "execution_count": 18,
   "metadata": {},
   "outputs": [
    {
     "name": "stdout",
     "output_type": "stream",
     "text": [
      "460/460 [==============================] - 0s 710us/step\n"
     ]
    },
    {
     "data": {
      "text/plain": [
       "<matplotlib.collections.PathCollection at 0x2e4410460>"
      ]
     },
     "execution_count": 18,
     "metadata": {},
     "output_type": "execute_result"
    },
    {
     "data": {
      "image/png": "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",
      "text/plain": [
       "<Figure size 640x480 with 1 Axes>"
      ]
     },
     "metadata": {},
     "output_type": "display_data"
    }
   ],
   "source": [
    "y_pred=model.predict(xtest)\n",
    "y_nat=10*(np.power(10,ytest)-1)\n",
    "y_pred_nat=10*(np.power(10,y_pred)-1)\n",
    "plt.scatter(y_nat,y_pred_nat)"
   ]
  },
  {
   "cell_type": "code",
<<<<<<< HEAD
   "execution_count": null,
   "metadata": {},
   "outputs": [],
=======
   "execution_count": 19,
   "metadata": {},
   "outputs": [
    {
     "ename": "NameError",
     "evalue": "name 'y_predLGBM' is not defined",
     "output_type": "error",
     "traceback": [
      "\u001b[0;31m---------------------------------------------------------------------------\u001b[0m",
      "\u001b[0;31mNameError\u001b[0m                                 Traceback (most recent call last)",
      "\u001b[1;32m/Users/mgrecu/GPM/aos/biasCorrection.ipynb Cell 7\u001b[0m line \u001b[0;36m7\n\u001b[1;32m      <a href='vscode-notebook-cell:/Users/mgrecu/GPM/aos/biasCorrection.ipynb#W6sZmlsZQ%3D%3D?line=4'>5</a>\u001b[0m \u001b[39mfor\u001b[39;00m int1 \u001b[39min\u001b[39;00m evalInt:\n\u001b[1;32m      <a href='vscode-notebook-cell:/Users/mgrecu/GPM/aos/biasCorrection.ipynb#W6sZmlsZQ%3D%3D?line=5'>6</a>\u001b[0m     a\u001b[39m=\u001b[39mnp\u001b[39m.\u001b[39mnonzero((y_test\u001b[39m>\u001b[39m\u001b[39m=\u001b[39mint1[\u001b[39m0\u001b[39m]) \u001b[39m&\u001b[39m (y_test\u001b[39m<\u001b[39mint1[\u001b[39m1\u001b[39m]))\n\u001b[0;32m----> <a href='vscode-notebook-cell:/Users/mgrecu/GPM/aos/biasCorrection.ipynb#W6sZmlsZQ%3D%3D?line=6'>7</a>\u001b[0m     bias\u001b[39m=\u001b[39mnp\u001b[39m.\u001b[39mmean(y_predLGBM[a]\u001b[39m-\u001b[39my_test[a])\u001b[39m/\u001b[39mnp\u001b[39m.\u001b[39mmean(y_test[a])\n\u001b[1;32m      <a href='vscode-notebook-cell:/Users/mgrecu/GPM/aos/biasCorrection.ipynb#W6sZmlsZQ%3D%3D?line=7'>8</a>\u001b[0m     rms\u001b[39m=\u001b[39mnp\u001b[39m.\u001b[39msqrt(np\u001b[39m.\u001b[39mmean((y_predLGBM[a]\u001b[39m-\u001b[39my_test[a])\u001b[39m*\u001b[39m\u001b[39m*\u001b[39m\u001b[39m2\u001b[39m))\u001b[39m/\u001b[39mnp\u001b[39m.\u001b[39mmean(y_test[a])\n\u001b[1;32m      <a href='vscode-notebook-cell:/Users/mgrecu/GPM/aos/biasCorrection.ipynb#W6sZmlsZQ%3D%3D?line=8'>9</a>\u001b[0m     biasL\u001b[39m.\u001b[39mappend(bias)\n",
      "\u001b[0;31mNameError\u001b[0m: name 'y_predLGBM' is not defined"
     ]
    }
   ],
>>>>>>> d107c291897fa3556267a7dc5d9fef244c83abbf
   "source": [
    "evalInt=[[0.5,1.5],[2,4],[4,8],[8,12]]\n",
    "biasL=[]\n",
    "rmsL=[]\n",
<<<<<<< HEAD
    "y_test,ypredCNN=y_nat,y_pred_nat\n",
    "for int1 in evalInt:\n",
    "    a=np.nonzero((y_test>=int1[0]) & (y_test<int1[1]))\n",
    "    bias=np.mean(ypredCNN[a]-y_test[a])/np.mean(y_test[a])\n",
    "    rms=np.sqrt(np.mean((ypredCNN[a]-y_test[a])**2))/np.mean(y_test[a])\n",
=======
    "y_test,ypredLGBM=y_nat,y_pred_nat\n",
    "for int1 in evalInt:\n",
    "    a=np.nonzero((y_test>=int1[0]) & (y_test<int1[1]))\n",
    "    bias=np.mean(y_predLGBM[a]-y_test[a])/np.mean(y_test[a])\n",
    "    rms=np.sqrt(np.mean((y_predLGBM[a]-y_test[a])**2))/np.mean(y_test[a])\n",
>>>>>>> d107c291897fa3556267a7dc5d9fef244c83abbf
    "    biasL.append(bias)\n",
    "    rmsL.append(rms)\n",
    "plt.figure(figsize=(6,8))\n",
    "plt.subplot(211)\n",
    "cat=['0.5-1.5 mm/h','2-4 mm/h','4-8 mm/h','8-12 mm/h']\n",
    "plt.bar(cat,np.array(biasL)*100)\n",
    "#plt.axes().xaxis.set_visible(False)\n",
    "plt.axhline(y=0,linestyle='--')\n",
    "plt.grid(axis='y')\n",
    "\n",
    "plt.title('Relative bias[%]')\n",
    "\n",
    "plt.subplot(212)\n",
    "plt.bar(cat,np.array(rmsL)*100*0.25)\n",
    "plt.grid(axis='y')\n",
    "plt.title('Relative RMS[%]')\n",
    "plt.tight_layout()\n",
    "plt.savefig('knnRegrPrecipScoresKuCONUS_KWAJ.png')"
   ]
  }
 ],
 "metadata": {
  "kernelspec": {
   "display_name": "base",
   "language": "python",
   "name": "python3"
  },
  "language_info": {
   "codemirror_mode": {
    "name": "ipython",
    "version": 3
   },
   "file_extension": ".py",
   "mimetype": "text/x-python",
   "name": "python",
   "nbconvert_exporter": "python",
   "pygments_lexer": "ipython3",
   "version": "3.9.13"
  }
 },
 "nbformat": 4,
 "nbformat_minor": 2
}
