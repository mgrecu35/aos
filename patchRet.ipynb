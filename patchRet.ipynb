{
 "cells": [
  {
   "cell_type": "code",
   "execution_count": 3,
   "metadata": {},
   "outputs": [
    {
     "name": "stdout",
     "output_type": "stream",
     "text": [
      "89\n"
     ]
    }
   ],
   "source": [
    "import glob\n",
    "import netCDF4 as nc\n",
    "import numpy as np\n",
    "import matplotlib.pyplot as plt\n",
    "\n",
    "fs=glob.glob('/Users/mgrecu/GPM/2ADPR_tiles/*.nc')\n",
    "fs=sorted(fs)\n",
    "print(len(fs))"
   ]
  },
  {
   "cell_type": "code",
   "execution_count": 58,
   "metadata": {},
   "outputs": [],
   "source": [
    "sfcPrecipL=[]\n",
    "pTypeL=[]\n",
    "zKuL=[]\n",
    "bzdL=[]\n",
    "bsfcL=[]\n",
    "bcfL=[]\n",
    "stormTopL=[]\n",
    "piaFinalL=[]\n",
    "for f in fs[:]:\n",
    "    with nc.Dataset(f) as fh:\n",
    "        #print(fh.variables.keys())\n",
    "        stormTop=fh.variables['stormTop'][:]\n",
    "        sfcPrecip=fh.variables['sfcPrecip'][:]\n",
    "        sfcPrecipW=fh.variables['sfcPrecipW'][:]\n",
    "        pType=fh.variables['pType'][:]\n",
    "        bzd=fh.variables['bzd'][:]\n",
    "        bsfc=fh.variables['bsfc'][:]\n",
    "        bcf=fh.variables['bcf'][:]\n",
    "        piaFinal=fh.variables['piaFinal'][:,:,:,0]\n",
    "        a=np.nonzero(pType[:,:,:].max(axis=(1,2))>0)\n",
    "        b=np.nonzero(bzd[a[0],:,:].max(axis=(1,2))<160)\n",
    "        zKu=fh.variables['zKu'][:]\n",
    "        nt=b[0].shape[0]\n",
    "        zKuL.extend(zKu[a[0][b],:,:,:].reshape(nt,100,176))\n",
    "        stormTopL.extend(stormTop[a[0][b],:,:].reshape(nt,100))\n",
    "        bzdL.extend(bzd[a[0][b],:,:].reshape(nt,100))\n",
    "        bcfL.extend(bcf[a[0][b],:,:].reshape(nt,100))\n",
    "        piaFinalL.extend(piaFinal[a[0][b],:,:].reshape(nt,100))\n",
    "        bsfcL.extend(bsfc[a[0][b],:,:].reshape(nt,100))\n",
    "        sfcPrecipL.extend(sfcPrecipW[a[0][b],:,:].reshape(nt,100))\n",
    "        pTypeL.extend(pType[a[0][b],:,:].reshape(nt,100))\n",
    "    #break"
   ]
  },
  {
   "cell_type": "code",
   "execution_count": 5,
   "metadata": {},
   "outputs": [],
   "source": [
    "\n",
    "alpha_st=[0.0000861,0.0001084,0.0004142,0.000282,0.000285]\n",
    "alpha_cv=[0.0000861,0.0001109,0.0004109,0.0004109,0.0004172]\n",
    "beta_st=0.792\n",
    "beta_cv=0.7713\n",
    "dr=0.125\n",
    "a_st,b_st=0.02282,0.6727\n",
    "a_cv,b_cv=0.0424,0.6434\n",
    "def hb(zKum,alpha,beta,dr,srt_piaKu):\n",
    "    q=0.2*np.log(10)\n",
    "    zeta=q*beta*alpha*10**(0.1*zKum*beta)*dr\n",
    "    zetamax=1.-10**(-srt_piaKu/10.*beta)\n",
    "    #zetamax=1.-10**(-4.0/10.*beta)\n",
    "    if zeta.cumsum()[-1]>zetamax:\n",
    "        eps=0.9999*zetamax/zeta.cumsum()[-1]\n",
    "        zeta=eps*zeta\n",
    "    else:\n",
    "        eps=1.0\n",
    "    corrc=eps*zeta.cumsum()\n",
    "    zc=zKum-10/beta*np.log10(1-corrc)\n",
    "    return zc,eps"
   ]
  },
  {
   "cell_type": "code",
   "execution_count": 101,
   "metadata": {},
   "outputs": [
    {
     "name": "stdout",
     "output_type": "stream",
     "text": [
      "7.298171\n"
     ]
    },
    {
     "name": "stderr",
     "output_type": "stream",
     "text": [
      "45241it [00:47, 3198.36it/s]"
     ]
    }
   ],
   "source": [
    "sfcPrecipL=np.array(sfcPrecipL)\n",
    "a=np.nonzero(sfcPrecipL>8)\n",
    "print(sfcPrecipL[a[0]].sum()/sfcPrecipL.sum())\n",
    "refSfcPrecipL=[]\n",
    "p1_L=[]\n",
    "p2_L=[]\n",
    "import tqdm\n",
    "sfcPrecip_hbL=[]\n",
    "patchDataL=[]\n",
    "iskipped=0\n",
    "for i,zKu1p in tqdm.tqdm(enumerate(zKuL)):\n",
    "    bzd1p=bzdL[i]\n",
    "    bcf1p=bcfL[i]\n",
    "    stormTop1p=stormTopL[i]\n",
    "    itop=176-(stormTop1p.data/125).astype(int)-5\n",
    "    #print(bsfc1,bzd1,)\n",
    "    dn_st=-0.2\n",
    "    dn_cv=-0.5\n",
    "    p1p=[]\n",
    "    p2p=[]\n",
    "    zFL=[]\n",
    "    stormTop1p[stormTop1p<0]=0\n",
    "    zetaFL=[]\n",
    "    iskip=0\n",
    "    a=np.nonzero(pTypeL[i]>0)\n",
    "    for j in a[0]:\n",
    "        if itop[j]>=bzd1p[j]-2 or bcf1p[j]<=bzd1p[j]+2:\n",
    "            iskip=1\n",
    "            continue\n",
    "    if iskip==1:\n",
    "        iskipped+=1\n",
    "        continue\n",
    "    for j in range(100):\n",
    "        bzd1=bzd1p[j]\n",
    "        bcf1=bcf1p[j]\n",
    "        zKu1=zKu1p[j]\n",
    "        zFL.append(zKu1[bzd1])\n",
    "        zetaFL.append((10**(0.1*zKu1[bzd1-40:bzd1]*0.7)).sum())\n",
    "        if pTypeL[i][j]==1 and bcf1>bzd1+2 and itop[j]<bzd1-2:\n",
    "            alpha=alpha_st\n",
    "            beta=beta_st\n",
    "            a=a_st\n",
    "            b=b_st\n",
    "            node=[itop[j],bzd1-2,bzd1,bzd1+2,bcf1]\n",
    "            alpha=np.interp(range(itop[j],bcf1),node,alpha_st)\n",
    "            alpha*=10**(dn_st*(1-beta_st))\n",
    "            zku_true,eps=hb(zKu1[itop[j]:bcf1],alpha,beta_st,dr,4)\n",
    "            sfcRainRate_hb=a_st*10**(dn_st*(1-b_st))*10**(0.1*zku_true[-1]*b_st)\n",
    "            p1p.append(sfcRainRate_hb)\n",
    "            p2p.append(sfcPrecipL[i][j])\n",
    "        else:\n",
    "            if pTypeL[i][j]==2 and bcf1>bzd1+2 and itop[j]<bzd1-2:\n",
    "                alpha=alpha_cv\n",
    "                beta=beta_cv\n",
    "                node=[itop[j],bzd1-1,bzd1,bzd1+2,bcf1]\n",
    "                alpha=np.interp(range(itop[j],bcf1),node,alpha_cv)\n",
    "                alpha*=10**(dn_cv*(1-beta_cv))\n",
    "                zku_true,eps=hb(zKu1[itop[j]:bcf1],alpha,beta_cv,dr,10)\n",
    "                sfcRainRate_hb=a_cv*10**(dn_cv*(1-b_cv))*10**(0.1*zku_true[-1]*b_cv)\n",
    "            #break\n",
    "                p1p.append(sfcRainRate_hb)\n",
    "                p2p.append(sfcPrecipL[i][j])\n",
    "            else:\n",
    "                p1p.append(0)\n",
    "                p2p.append(0)\n",
    "    if len(p1p)>0:\n",
    "        p1_L.append(np.mean(p1p))\n",
    "        p2_L.append(np.mean(p2p))\n",
    "    sfcPrecip_hbL.append(p1p)\n",
    "    refSfcPrecipL.append(p2p)\n",
    "    if len(p1p)!=100:\n",
    "        print('error')   \n",
    "        break\n",
    "    else:\n",
    "        patchDataL.append(np.array([zFL,zetaFL,p1p,pTypeL[i],piaFinalL[i],sfcPrecipL[i]]).T)\n",
    "    #break\n",
    "    "
   ]
  },
  {
   "cell_type": "code",
   "execution_count": null,
   "metadata": {},
   "outputs": [],
   "source": []
  },
  {
   "cell_type": "code",
   "execution_count": 100,
   "metadata": {},
   "outputs": [
    {
     "name": "stdout",
     "output_type": "stream",
     "text": [
      "(131134, 100, 6)\n"
     ]
    }
   ],
   "source": [
    "#patchDataL.append(np.array([zFL,zetaFL,p1p,pTypeL[i],piaFinalL[i],sfcPrecipL[i]]).T)\n",
    "patchDataL=np.array(patchDataL)\n",
    "import xarray as xr\n",
    "print(patchDataL.shape)"
   ]
  },
  {
   "cell_type": "code",
   "execution_count": 91,
   "metadata": {},
   "outputs": [],
   "source": [
    "zFL_=xr.DataArray(patchDataL[:,:,0],dims=['nrec','npix'])\n",
    "zetaFL_=xr.DataArray(patchDataL[:,:,1],dims=['nrec','npix'])\n",
    "sfcPrecip_hb_=xr.DataArray(patchDataL[:,:,2],dims=['nrec','npix'])\n",
    "pType_=xr.DataArray(patchDataL[:,:,3],dims=['nrec','npix'])\n",
    "piaFinal_=xr.DataArray(patchDataL[:,:,4],dims=['nrec','npix'])\n",
    "sfcPrecip_=xr.DataArray(patchDataL[:,:,5],dims=['nrec','npix'])\n",
    "patchData_=xr.DataArray(patchDataL,dims=['nrec','npix','nvar'])\n",
    "\n",
    "ds=xr.Dataset({'zFL':zFL_,\n",
    "            'zetaFL':zetaFL_,\n",
    "            'sfcPrecip_hb':sfcPrecip_hb_,\n",
    "            'pType':pType_,\n",
    "            'piaFinal':piaFinal_,\n",
    "            'sfcPrecip':sfcPrecip_,'patchData':patchData_})\n",
    "\n",
    "# save to compressed netcdf\n",
    "ds.to_netcdf('patchData.nc',encoding={'zFL':{'zlib':True,'complevel':5},\n",
    "                                        'zetaFL':{'zlib':True,'complevel':5},\n",
    "                                        'sfcPrecip_hb':{'zlib':True,'complevel':5},\n",
    "                                        'pType':{'zlib':True,'complevel':5},\n",
    "                                        'piaFinal':{'zlib':True,'complevel':5},\n",
    "                                        'sfcPrecip':{'zlib':True,'complevel':5},'patchData':{'zlib':True,'complevel':5}})"
   ]
  },
  {
   "cell_type": "code",
   "execution_count": 98,
   "metadata": {},
   "outputs": [
    {
     "name": "stdout",
     "output_type": "stream",
     "text": [
      "[370.44876, 345.92804, 521.79333, 818.6426, 810.28906, 1016.3442, 780.88696, 619.3618, 581.527, 355.7807, 202.31209, 186.63954, 271.76816, 513.344, 685.8308, 799.0878, 829.14453, 574.693, 498.84015, 376.0531, 146.42111, 96.45679, 113.72423, 259.23242, 434.71655, 519.80347, 623.124, 548.0924, 411.66388, 283.88297, 137.3276, 41.453842, 65.53164, 179.3757, 263.8433, 261.495, 328.38828, 423.55145, 306.65292, 248.57976, 131.28856, 153.11938, 127.43187, 100.70399, 172.89612, 451.11807, 118.828896, 276.36688, 260.38962, 259.34796, 172.7038, 100.33165, 73.64934, 46.88037, 103.42178, 173.69498, 48.250305, 98.616486, 175.35146, 151.86238, 50.227047, 111.65753, 116.234886, 123.88412, 92.63172, 166.08876, 81.68974, 108.01133, 92.35303, 125.609726, 49.936264, 96.462204, 90.88316, 106.38927, 65.33385, 136.39091, 169.49567, 118.25575, 104.612076, 143.99219, 108.353935, 83.39308, 127.83736, 163.11662, 127.68393, 179.64938, 109.83777, 132.58467, 74.88403, 129.57698, 58.49878, 97.37462, 177.64479, 128.78583, 108.414215, 111.399994, 103.77311, 28.245281, 76.96175, 79.90692]\n",
      "[135 135 135 135 135 135 135 135 135 135 135 135 135 135 135 135 135 135\n",
      " 135 135 135 135 135 135 135 135 135 135 135 135 135 136 136 136 136 135\n",
      " 134 134 134 135 135 136 136 135 135 135 134 134 134 134 136 136 135 135\n",
      " 135 135 135 134 134 134 136 135 135 135 135 135 135 134 134 134 135 135\n",
      " 135 135 135 135 135 135 134 134 135 135 135 135 135 135 135 135 134 134\n",
      " 135 135 135 135 135 135 135 135 135 134]\n",
      "<xarray.DataArray (npix: 100)>\n",
      "array([2.44532672, 2.44706898, 2.44754763, 2.44750233, 2.44650634,\n",
      "       2.44722625, 2.44486853, 2.44506682, 2.44302453, 2.44060523,\n",
      "       2.45131042, 2.4526643 , 2.45296543, 2.45297132, 2.45198181,\n",
      "       2.45244779, 2.45040688, 2.45079783, 2.44894049, 2.44647816,\n",
      "       2.45458599, 2.45593792, 2.45612663, 2.45601018, 2.45506783,\n",
      "       2.45553882, 2.45369651, 2.45388723, 2.4519898 , 2.45005941,\n",
      "       2.45648941, 2.45787224, 2.45795795, 2.45786249, 2.45702861,\n",
      "       2.45767327, 2.45602629, 2.45635245, 2.45440245, 2.45279852,\n",
      "       2.45764745, 2.45906499, 2.45917557, 2.4591771 , 2.45840705,\n",
      "       2.45893502, 2.45701391, 2.4576411 , 2.45603708, 2.45442073,\n",
      "       2.45803857, 2.45948723, 2.45978906, 2.45982558, 2.45895722,\n",
      "       2.45936763, 2.45731562, 2.45803283, 2.4566102 , 2.45493072,\n",
      "       2.45777885, 2.45926359, 2.45954954, 2.45960853, 2.45860682,\n",
      "       2.45922079, 2.45698099, 2.45769826, 2.45663466, 2.45482079,\n",
      "       2.45663489, 2.45813768, 2.45862081, 2.45864876, 2.45742886,\n",
      "       2.45797931, 2.45595015, 2.45664936, 2.45537084, 2.4535829 ,\n",
      "       2.45402416, 2.45575224, 2.45625235, 2.45660416, 2.45554047,\n",
      "       2.45615548, 2.454269  , 2.4548211 , 2.45331835, 2.45147182,\n",
      "       2.4501962 , 2.45233063, 2.45311714, 2.45346606, 2.45246123,\n",
      "       2.45305101, 2.45121812, 2.45180255, 2.45004659, 2.44789664])\n",
      "Dimensions without coordinates: npix\n"
     ]
    }
   ],
   "source": [
    "print(zetaFL)\n",
    "print(bzd1p)\n",
    "(10**(0.1*zKu1p[5][bzd1p[5]-40:bzd1p[5]]*0.7)).sum()\n",
    "print(np.log10(1+zetaFL_).mean(axis=0))"
   ]
  },
  {
   "cell_type": "code",
   "execution_count": 31,
   "metadata": {},
   "outputs": [
    {
     "name": "stdout",
     "output_type": "stream",
     "text": [
      "[[1.         0.73053995]\n",
      " [0.73053995 1.        ]]\n",
      "98449\n"
     ]
    },
    {
     "data": {
      "text/plain": [
       "<matplotlib.collections.PathCollection at 0x1741df6a0>"
      ]
     },
     "execution_count": 31,
     "metadata": {},
     "output_type": "execute_result"
    },
    {
     "data": {
      "image/png": "[encoded data removed]",
      "text/plain": [
       "<Figure size 640x480 with 1 Axes>"
      ]
     },
     "metadata": {},
     "output_type": "display_data"
    }
   ],
   "source": [
    "p1_L=np.array(p1_L)\n",
    "p2_L=np.array(p2_L)\n",
    "a=np.nonzero(p1_L==p1_L)\n",
    "print(np.corrcoef(p1_L[a],p2_L[a]))\n",
    "print(len(p1_L[a]))\n",
    "plt.scatter(p1_L[a],p2_L[a],s=1)"
   ]
  },
  {
   "cell_type": "code",
   "execution_count": 38,
   "metadata": {},
   "outputs": [
    {
     "name": "stdout",
     "output_type": "stream",
     "text": [
      "[0, 0.13024831805994536, 0.31237638181171473, 0.8553381568147373, 1.8084485177887943, 1.4207270866847705, 0.8144441545860116, 0.3127691366865618, 0, 0, 0, 0, 0, 0.23704950700632535, 0.6595493187534195, 1.496360832153104, 0.7676597704904634, 0.3123408295296514, 0.0635036669531938, 0, 0, 0, 0, 0, 0, 0.2592300467723586, 0.3383452311269437, 0.2685239284330649, 0, 0, 0, 0, 0, 0, 0, 0, 0, 0.18180565623653783, 0, 0, 0, 0, 0, 0, 0, 0, 0, 0, 0, 0, 0, 0, 0, 0, 0, 0, 0, 0, 0, 0, 0, 0, 0, 0, 0, 0, 0, 0, 0, 0, 0, 0, 0, 0, 0, 0, 0, 0, 0, 0, 0, 0, 0, 0, 0, 0, 0, 0, 0, 0, 0, 0, 0, 0, 0, 0, 0, 0, 0, 0]\n",
      "[0, 0.41886905, 0.3500645, 0.84572434, 1.7889115, 1.2999208, 0.828594, 0.33787248, 0, 0, 0, 0, 0, 0.2485891, 0.6632216, 1.3443934, 0.7889747, 0.33226445, 0.0, 0, 0, 0, 0, 0, 0, 0.3134468, 0.36596563, 0.31082582, 0, 0, 0, 0, 0, 0, 0, 0, 0, 0.19331779, 0, 0, 0, 0, 0, 0, 0, 0, 0, 0, 0, 0, 0, 0, 0, 0, 0, 0, 0, 0, 0, 0, 0, 0, 0, 0, 0, 0, 0, 0, 0, 0, 0, 0, 0, 0, 0, 0, 0, 0, 0, 0, 0, 0, 0, 0, 0, 0, 0, 0, 0, 0, 0, 0, 0, 0, 0, 0, 0, 0, 0, 0]\n"
     ]
    },
    {
     "data": {
      "image/png": "[encoded data removed]",
      "text/plain": [
       "<Figure size 640x480 with 1 Axes>"
      ]
     },
     "metadata": {},
     "output_type": "display_data"
    }
   ],
   "source": [
    "print(p1p)\n",
    "print(p2p)\n",
    "from matplotlib import colors as mpl\n",
    "ax=plt.subplot(111)\n",
    "h2d=plt.hist2d(p1_L,p2_L,bins=10**(np.linspace(-1,1.0,30)),cmap='jet',norm=mpl.LogNorm())\n",
    "plt.xscale('log')\n",
    "plt.yscale('log')\n",
    "ax.set_aspect('equal')"
   ]
  },
  {
   "cell_type": "code",
   "execution_count": 42,
   "metadata": {},
   "outputs": [
    {
     "name": "stdout",
     "output_type": "stream",
     "text": [
      "[[1.         0.07139965]\n",
      " [0.07139965 1.        ]]\n",
      "8.46055278282945 8.973098843421305\n",
      "3.8314628190374194\n"
     ]
    }
   ],
   "source": [
    "p1_L=np.array(p1_L)\n",
    "p2_L=np.array(p2_L)\n",
    "a=np.nonzero(abs(p2_L-9)<1)\n",
    "print(np.corrcoef(p1_L[a],p2_L[a]))\n",
    "print(np.mean(p1_L[a]),np.mean(p2_L[a]))\n",
    "print(np.std(p1_L[a]-p2_L[a]))"
   ]
  },
  {
   "cell_type": "code",
   "execution_count": 3,
   "metadata": {},
   "outputs": [
    {
     "name": "stdout",
     "output_type": "stream",
     "text": [
      "1.0\n",
      "66497\n"
     ]
    },
    {
     "data": {
      "image/png": "[encoded data removed]",
      "text/plain": [
       "<Figure size 640x480 with 1 Axes>"
      ]
     },
     "metadata": {},
     "output_type": "display_data"
    }
   ],
   "source": [
    "h1=plt.hist(sfcPrecipL,bins=np.arange(1,21)*0.5)\n",
    "pTypeL=np.array(pTypeL)\n",
    "a=np.where(pTypeL>0)\n",
    "print(len(a[0])/len(pTypeL))\n",
    "print(len(a[0]))"
   ]
  }
 ],
 "metadata": {
  "kernelspec": {
   "display_name": "base",
   "language": "python",
   "name": "python3"
  },
  "language_info": {
   "codemirror_mode": {
    "name": "ipython",
    "version": 3
   },
   "file_extension": ".py",
   "mimetype": "text/x-python",
   "name": "python",
   "nbconvert_exporter": "python",
   "pygments_lexer": "ipython3",
   "version": "3.9.13"
  }
 },
 "nbformat": 4,
 "nbformat_minor": 2
}
