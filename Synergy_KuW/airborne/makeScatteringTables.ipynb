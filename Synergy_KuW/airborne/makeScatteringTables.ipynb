{
 "cells": [
  {
   "cell_type": "code",
   "execution_count": 2,
   "metadata": {},
   "outputs": [],
   "source": [
    "from netCDF4 import Dataset\n",
    "import numpy as np\n",
    "#from numba import jit\n",
    "from scipy.special import gamma as gam\n",
    "\n",
    "def readScatProf(fname):\n",
    "    fh=Dataset(fname,'r')\n",
    "    temp=fh['temperature'][:]\n",
    "    mass=fh['mass'][:]\n",
    "    fraction=fh['fraction'][:]\n",
    "    bscat=fh['bscat'][:]*4*np.pi\n",
    "    Deq=10*(mass*1e3*6/np.pi)**(0.333) # in mm\n",
    "    ext=fh['ext'][:]\n",
    "    scat=fh['scat'][:]\n",
    "    g=fh['g'][:]\n",
    "    vfall=fh['fall_speed'][:]\n",
    "    return temp,mass,fraction,bscat,Deq,ext,scat,g,vfall\n",
    "\n",
    "def readScatProfR(fname):\n",
    "    fh=Dataset(fname,'r')\n",
    "    temp=fh['temperature'][:]\n",
    "    mass=fh['mass'][:]\n",
    "    bscat=fh['bscat'][:]*4*np.pi\n",
    "    Deq=10*(mass*1e3*6/np.pi)**(0.333) # in mm\n",
    "    ext=fh['ext'][:]\n",
    "    vfall=fh['fall_speed'][:]\n",
    "    scat=fh['scat'][:]\n",
    "    g=fh['g'][:]\n",
    "    #print(fh)\n",
    "    #stop\n",
    "    return temp,mass,bscat,Deq,ext,scat,g,vfall,fh"
   ]
  },
  {
   "cell_type": "code",
   "execution_count": 3,
   "metadata": {},
   "outputs": [
    {
     "name": "stdout",
     "output_type": "stream",
     "text": [
      "13.8 13.8\n"
     ]
    }
   ],
   "source": [
    "import glob\n",
    "fss=sorted(glob.glob(\"/Users/mgrecu/scatteringProp/ice*nc\"))\n",
    "fsr=sorted(glob.glob(\"/Users/mgrecu/scatteringProp/water*nc\"))\n",
    "\n",
    "for f1,f2 in zip(fss,fsr):\n",
    "    #print(f1,f2)\n",
    "    freq1=f1.split(\"_\")[1].split(\"-GHz\")[0]\n",
    "    freq2=f2.split(\"_\")[1].split(\"-GHz\")[0]\n",
    "    print(freq1,freq2)\n",
    "    tempI,massI,fractionI,bscatI,DeqI,extI,scatI,gI,vfallI=readScatProf(f1)\n",
    "    tempR,massR,bscatR,DeqR,extR,scatR,gR,vfallR,fh=readScatProfR(f2)\n",
    "    break"
   ]
  },
  {
   "cell_type": "code",
   "execution_count": 14,
   "metadata": {},
   "outputs": [
    {
     "name": "stdout",
     "output_type": "stream",
     "text": [
      "(5,)\n",
      "(5, 25, 200)\n",
      "(5,)\n",
      "(5, 200)\n"
     ]
    }
   ],
   "source": [
    "print(tempR.shape)\n",
    "print(bscatI.shape)\n",
    "print(tempI.shape)\n",
    "print(bscatR.shape)"
   ]
  },
  {
   "cell_type": "code",
   "execution_count": 39,
   "metadata": {},
   "outputs": [],
   "source": [
    "def get_Zn(w,nw,lambd,W,Z,att,dm,dm_out,rrate_out,\\\n",
    "           kext,kscat,g,Deq,bscat,ext,scat,asym,vfall,mu,wl):\n",
    "    dD=0.05\n",
    "    rhow=1 #gcm-3\n",
    "    Dint=np.arange(160)*dD+dD/2.0\n",
    "    bscatInt=np.exp(np.interp(Dint,Deq,np.log(bscat)))  #m^2\n",
    "    extInt=np.exp(np.interp(Dint,Deq,np.log(ext)))  #m^2\n",
    "    vfallInt=np.interp(Dint,Deq,vfall)\n",
    "    scatInt=np.exp(np.interp(Dint,Deq,np.log(scat)))  #m^2\n",
    "    gInt=np.interp(Dint,Deq,(asym))  #m^2\n",
    "    fact=1e3/np.pi**5/0.93*wl**4\n",
    "    nP=W.shape[0]\n",
    "    f_mu=6/4**4*(4+mu)**(mu+4)/gam(mu+4)\n",
    "    #print(vfallInt)\n",
    "    for j in range(nP):\n",
    "        vdop=0\n",
    "        nc0=0\n",
    "        Vol=0\n",
    "        #zray=0.0\n",
    "        rrate=0.0\n",
    "        for i in range(160):\n",
    "            d=dD*i+dD/2\n",
    "            Nd=f_mu*np.exp(-lambd[j]*d)*(d/dm[j])**mu*dD #(mm)\n",
    "            W[j]=W[j]+nw[j]*Nd*(0.1*d)**3*np.pi/6*rhow*1e-3 #(g/m3)\n",
    "            dm_out[j]=dm_out[j]+nw[j]*Nd*(0.1*d)**3*np.pi/6*rhow*(d)*1e-3 #(g/m3)\n",
    "            Z[j]=Z[j]+nw[j]*Nd*bscatInt[i]\n",
    "            vdop=vdop+nw[j]*Nd*bscatInt[i]*vfallInt[i]\n",
    "            rrate=rrate+nw[j]*Nd*(0.1*d)**3*np.pi/6*vfallInt[i]\n",
    "            att[j]=att[j]+nw[j]*Nd*extInt[i]*4.343 #(/km)\n",
    "            kext[j]=kext[j]+nw[j]*Nd*extInt[i] #(/km)\n",
    "            kscat[j]=kscat[j]+nw[j]*Nd*scatInt[i] #(/km)\n",
    "            g[j]=g[j]+nw[j]*Nd*scatInt[i]*gInt[i] #(/km)\n",
    "            nc0=nc0+nw[j]*Nd\n",
    "            Vol=Vol+nw[j]*Nd*(1e-3*d)**3*np.pi/6\n",
    "        Z[j]=np.log10(Z[j]*fact)*10\n",
    "        dm_out[j]=dm_out[j]/(W[j]+1e-9)\n",
    "        rrate_out[j]=rrate*3.6e-3\n",
    "\n",
    "def calcZkuR(rwc,Deq_r,bscat_r,ext_r,scat_r,g_r,vfall_r,mu,wl):\n",
    "    Nw=rwc.copy()*0+0.08e8\n",
    "    dm=(4**4*rwc/(np.pi*1e6*Nw))**0.25*1e3 # in mm\n",
    "    nwr=rwc.copy()*0.0+Nw\n",
    "    w_r=rwc.copy()*0.0\n",
    "    prate_r=rwc.copy()*0.0\n",
    "    z_r=rwc.copy()*0.0\n",
    "    att_r=rwc.copy()*0.0\n",
    "    dm_r=rwc.copy()*0.0\n",
    "    kext_out_r=rwc.copy()*0.0\n",
    "    kscat_out_r=rwc.copy()*0.0\n",
    "    g_out_r=rwc.copy()*0.0\n",
    "    lambd=(4+mu)/dm\n",
    "    get_Zn(rwc,nwr,lambd,w_r,z_r,att_r,dm,dm_r,\\\n",
    "           prate_r,kext_out_r,kscat_out_r,g_out_r,Deq_r,bscat_r[4,:],ext_r[4,:],\\\n",
    "           scat_r[4,:],g_r[4,:],\\\n",
    "           vfall_r,mu,wl)\n",
    "    print(rwc.mean())\n",
    "    print(w_r.mean())\n",
    "    return nwr,z_r,att_r,prate_r,kext_out_r,kscat_out_r,g_out_r,dm_r,w_r\n",
    "\n",
    "def calcZkuS(rwc,Deq_r,bscat_r,ext_r,scat_r,g_r,vfall_r,mu,wl,itemp,ifract):\n",
    "    Nw=rwc.copy()*0+0.08e8\n",
    "    dm=(4**4*rwc/(np.pi*1e6*Nw))**0.25*1e3 # in mm\n",
    "    nwr=rwc.copy()*0.0+Nw\n",
    "    w_r=rwc.copy()*0.0\n",
    "    prate_r=rwc.copy()*0.0\n",
    "    z_r=rwc.copy()*0.0\n",
    "    att_r=rwc.copy()*0.0\n",
    "    dm_r=rwc.copy()*0.0\n",
    "    kext_out_r=rwc.copy()*0.0\n",
    "    kscat_out_r=rwc.copy()*0.0\n",
    "    g_out_r=rwc.copy()*0.0\n",
    "    lambd=(4+mu)/dm\n",
    "    get_Zn(rwc,nwr,lambd,w_r,z_r,att_r,dm,dm_r,\\\n",
    "           prate_r,kext_out_r,kscat_out_r,g_out_r,Deq_r[ifract,:],bscat_r[itemp,ifract,:],ext_r[itemp,ifract,:],\\\n",
    "           scat_r[itemp,ifract,:],g_r[itemp,ifract,:],\\\n",
    "           vfall_r[ifract,:],mu,wl)\n",
    "    #get_Zn(rwc,nwr,lambd,w_s,z_s,att_s,dm,dm_s,\\\n",
    "    #       prate_s,Deq[14,:],bscat[3,14,:],ext[3,14,:],vfall[3,:],mu,wl)\n",
    "    print(rwc.mean())\n",
    "    print(w_r.mean())\n",
    "    return nwr,z_r,att_r,prate_r,kext_out_r,kscat_out_r,g_out_r,dm_r,w_r"
   ]
  },
  {
   "cell_type": "code",
   "execution_count": 35,
   "metadata": {},
   "outputs": [
    {
     "name": "stdout",
     "output_type": "stream",
     "text": [
      "[1.00000000e-03 1.09749877e-03 1.20450354e-03 1.32194115e-03\n",
      " 1.45082878e-03 1.59228279e-03 1.74752840e-03 1.91791026e-03\n",
      " 2.10490414e-03 2.31012970e-03 2.53536449e-03 2.78255940e-03\n",
      " 3.05385551e-03 3.35160265e-03 3.67837977e-03 4.03701726e-03\n",
      " 4.43062146e-03 4.86260158e-03 5.33669923e-03 5.85702082e-03\n",
      " 6.42807312e-03 7.05480231e-03 7.74263683e-03 8.49753436e-03\n",
      " 9.32603347e-03 1.02353102e-02 1.12332403e-02 1.23284674e-02\n",
      " 1.35304777e-02 1.48496826e-02 1.62975083e-02 1.78864953e-02\n",
      " 1.96304065e-02 2.15443469e-02 2.36448941e-02 2.59502421e-02\n",
      " 2.84803587e-02 3.12571585e-02 3.43046929e-02 3.76493581e-02\n",
      " 4.13201240e-02 4.53487851e-02 4.97702356e-02 5.46227722e-02\n",
      " 5.99484250e-02 6.57933225e-02 7.22080902e-02 7.92482898e-02\n",
      " 8.69749003e-02 9.54548457e-02 1.04761575e-01 1.14975700e-01\n",
      " 1.26185688e-01 1.38488637e-01 1.51991108e-01 1.66810054e-01\n",
      " 1.83073828e-01 2.00923300e-01 2.20513074e-01 2.42012826e-01\n",
      " 2.65608778e-01 2.91505306e-01 3.19926714e-01 3.51119173e-01\n",
      " 3.85352859e-01 4.22924287e-01 4.64158883e-01 5.09413801e-01\n",
      " 5.59081018e-01 6.13590727e-01 6.73415066e-01 7.39072203e-01\n",
      " 8.11130831e-01 8.90215085e-01 9.77009957e-01 1.07226722e+00\n",
      " 1.17681195e+00 1.29154967e+00 1.41747416e+00 1.55567614e+00\n",
      " 1.70735265e+00 1.87381742e+00 2.05651231e+00 2.25701972e+00\n",
      " 2.47707636e+00 2.71858824e+00 2.98364724e+00 3.27454916e+00\n",
      " 3.59381366e+00 3.94420606e+00 4.32876128e+00 4.75081016e+00\n",
      " 5.21400829e+00 5.72236766e+00 6.28029144e+00 6.89261210e+00\n",
      " 7.56463328e+00 8.30217568e+00 9.11162756e+00 1.00000000e+01]\n",
      "1.1255514466705876\n",
      "1.1246949486773898\n"
     ]
    }
   ],
   "source": [
    "rwc=(np.logspace(-3,1,100))\n",
    "print(rwc)\n",
    "mu=2.0\n",
    "wl=300/float(freq1)\n",
    "nwr,z_r,att_r,prate_r,kext_out_r,kscat_out_r,g_out_r,dm_r,w_r=calcZkuR(rwc,DeqR,bscatR,extR,scatR,gR,vfallR,mu,wl)\n"
   ]
  },
  {
   "cell_type": "code",
   "execution_count": 45,
   "metadata": {},
   "outputs": [
    {
     "name": "stdout",
     "output_type": "stream",
     "text": [
      "dict_keys(['kextG', 'kextS', 'kextH', 'kextR', 'salbG', 'salbS', 'salbH', 'salbR', 'asymG', 'asymS', 'asymH', 'asymR', 'dmr', 'dms', 'dmg', 'dmh', 'rwc', 'swc', 'gwc', 'hwc', 'rainRate', 'snowRate', 'graupRate', 'hailRate', 'zKuR', 'zKuS', 'zKuG', 'zKuH', 'zKaR', 'zKaS', 'zKaG', 'zKaH', 'attKuR', 'attKuS', 'attKuG', 'attKuH', 'attKaR', 'attKaS', 'attKaG'])\n"
     ]
    },
    {
     "data": {
      "text/plain": [
       "[<matplotlib.lines.Line2D at 0x138b5d9d0>]"
      ]
     },
     "execution_count": 45,
     "metadata": {},
     "output_type": "execute_result"
    },
    {
     "data": {
      "image/png": "[encoded data removed]",
      "text/plain": [
       "<Figure size 640x480 with 1 Axes>"
      ]
     },
     "metadata": {},
     "output_type": "display_data"
    }
   ],
   "source": [
    "#print(z_r)\n",
    "#print(DeqR)\n",
    "#print(z_r[0:5],dm_r[0:5],rwc[0:5])\n",
    "#print(z_r[-5:],dm_r[-5:],rwc[-5:])\n",
    "import matplotlib.pyplot as plt\n",
    "import netCDF4 as nc\n",
    "with nc.Dataset(\"/Users/mgrecu/myPythonPackages/lookupTables/scatteringTablesGPM.nc\") as f:\n",
    "    print(f.variables.keys())\n",
    "    rwcDPR=f[\"rwc\"][:]\n",
    "    zKuR=f[\"zKuR\"][:]\n",
    "    attKuR=f[\"attKuR\"][:]\n",
    "\n",
    "plt.semilogx(attKuR[100:273],zKuR[100:273])\n",
    "plt.semilogx(att_r[:],z_r[:])\n",
    "#plt.semilogx(w_r[:],z_r[:273])\n",
    "#plt.ylim(40,50)\n",
    "#plt.xlim(1,3)\n",
    "#plt.grid()"
   ]
  }
 ],
 "metadata": {
  "kernelspec": {
   "display_name": "base",
   "language": "python",
   "name": "python3"
  },
  "language_info": {
   "codemirror_mode": {
    "name": "ipython",
    "version": 3
   },
   "file_extension": ".py",
   "mimetype": "text/x-python",
   "name": "python",
   "nbconvert_exporter": "python",
   "pygments_lexer": "ipython3",
   "version": "3.9.13"
  }
 },
 "nbformat": 4,
 "nbformat_minor": 2
}
