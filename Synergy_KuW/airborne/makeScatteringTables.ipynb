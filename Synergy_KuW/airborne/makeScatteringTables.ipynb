{
 "cells": [
  {
   "cell_type": "code",
   "execution_count": 2,
   "metadata": {},
   "outputs": [],
   "source": [
    "from netCDF4 import Dataset\n",
    "import numpy as np\n",
    "#from numba import jit\n",
    "from scipy.special import gamma as gam\n",
    "\n",
    "def readScatProf(fname):\n",
    "    fh=Dataset(fname,'r')\n",
    "    temp=fh['temperature'][:]\n",
    "    mass=fh['mass'][:]\n",
    "    fraction=fh['fraction'][:]\n",
    "    bscat=fh['bscat'][:]*4*np.pi\n",
    "    Deq=10*(mass*1e3*6/np.pi)**(0.333) # in mm\n",
    "    ext=fh['ext'][:]\n",
    "    scat=fh['scat'][:]\n",
    "    g=fh['g'][:]\n",
    "    vfall=fh['fall_speed'][:]\n",
    "    return temp,mass,fraction,bscat,Deq,ext,scat,g,vfall\n",
    "\n",
    "def readScatProfR(fname):\n",
    "    fh=Dataset(fname,'r')\n",
    "    temp=fh['temperature'][:]\n",
    "    mass=fh['mass'][:]\n",
    "    bscat=fh['bscat'][:]*4*np.pi\n",
    "    Deq=10*(mass*1e3*6/np.pi)**(0.333) # in mm\n",
    "    ext=fh['ext'][:]\n",
    "    vfall=fh['fall_speed'][:]\n",
    "    scat=fh['scat'][:]\n",
    "    g=fh['g'][:]\n",
    "    #print(fh)\n",
    "    #stop\n",
    "    return temp,mass,bscat,Deq,ext,scat,g,vfall,fh"
   ]
  },
  {
   "cell_type": "code",
   "execution_count": 3,
   "metadata": {},
   "outputs": [
    {
     "name": "stdout",
     "output_type": "stream",
     "text": [
      "13.8 13.8\n"
     ]
    }
   ],
   "source": [
    "import glob\n",
    "fss=sorted(glob.glob(\"/Users/mgrecu/scatteringProp/ice*nc\"))\n",
    "fsr=sorted(glob.glob(\"/Users/mgrecu/scatteringProp/water*nc\"))\n",
    "\n",
    "for f1,f2 in zip(fss,fsr):\n",
    "    #print(f1,f2)\n",
    "    freq1=f1.split(\"_\")[1].split(\"-GHz\")[0]\n",
    "    freq2=f2.split(\"_\")[1].split(\"-GHz\")[0]\n",
    "    print(freq1,freq2)\n",
    "    tempI,massI,fractionI,bscatI,DeqI,extI,scatI,gI,vfallI=readScatProf(f1)\n",
    "    tempR,massR,bscatR,DeqR,extR,scatR,gR,vfallR,fh=readScatProfR(f2)\n",
    "    break"
   ]
  },
  {
   "cell_type": "code",
   "execution_count": 14,
   "metadata": {},
   "outputs": [
    {
     "name": "stdout",
     "output_type": "stream",
     "text": [
      "(5,)\n",
      "(5, 25, 200)\n",
      "(5,)\n",
      "(5, 200)\n"
     ]
    }
   ],
   "source": [
    "#print(tempR.shape)\n",
    "#print(bscatI.shape)\n",
    "#print(tempI.shape)\n",
    "#print(bscatR.shape)"
   ]
  },
  {
   "cell_type": "code",
   "execution_count": 83,
   "metadata": {},
   "outputs": [],
   "source": [
    "def get_Zn(w,nw,lambd,W,Z,att,dm,dm_out,rrate_out,\\\n",
    "           kext,kscat,g,Deq,bscat,ext,scat,asym,vfall,mu,wl,fract):\n",
    "    dD=0.05\n",
    "    rhow=1 #gcm-3\n",
    "    Dint=np.arange(260)*dD+dD/2.0\n",
    "    bscatInt=np.exp(np.interp(Dint,Deq,np.log(bscat)))  #m^2\n",
    "    extInt=np.exp(np.interp(Dint,Deq,np.log(ext)))  #m^2\n",
    "    vfallInt=np.interp(Dint,Deq,vfall)\n",
    "    scatInt=np.exp(np.interp(Dint,Deq,np.log(scat)))  #m^2\n",
    "    gInt=np.interp(Dint,Deq,(asym))  #m^2\n",
    "    fact=1e3/np.pi**5/0.93*wl**4\n",
    "    nP=W.shape[0]\n",
    "    f_mu=6/4**4*(4+mu)**(mu+4)/gam(mu+4)\n",
    "    #print(vfallInt)\n",
    "    for j in range(nP):\n",
    "        vdop=0\n",
    "        nc0=0\n",
    "        Vol=0\n",
    "        #zray=0.0\n",
    "        rrate=0.0\n",
    "        for i in range(260):\n",
    "            d=dD*i+dD/2\n",
    "            Nd=f_mu*np.exp(-lambd[j]*d)*(d/dm[j])**mu*dD #(mm)\n",
    "            W[j]=W[j]+nw[j]*Nd*(0.1*d)**3*np.pi/6*rhow*fract*1e-3 #(g/m3)\n",
    "            dm_out[j]=dm_out[j]+nw[j]*Nd*(0.1*d)**3*np.pi/6*rhow*fract*(d)*1e-3 #(g/m3)\n",
    "            Z[j]=Z[j]+nw[j]*Nd*bscatInt[i]\n",
    "            vdop=vdop+nw[j]*Nd*bscatInt[i]*vfallInt[i]\n",
    "            rrate=rrate+nw[j]*Nd*(0.1*d)**3*np.pi/6*vfallInt[i]\n",
    "            att[j]=att[j]+nw[j]*Nd*extInt[i]*4.343 #(/km)\n",
    "            kext[j]=kext[j]+nw[j]*Nd*extInt[i] #(/km)\n",
    "            kscat[j]=kscat[j]+nw[j]*Nd*scatInt[i] #(/km)\n",
    "            g[j]=g[j]+nw[j]*Nd*scatInt[i]*gInt[i] #(/km)\n",
    "            nc0=nc0+nw[j]*Nd\n",
    "            Vol=Vol+nw[j]*Nd*(1e-3*d)**3*np.pi/6\n",
    "        Z[j]=np.log10(Z[j]*fact)*10\n",
    "        dm_out[j]=dm_out[j]/(W[j]+1e-9)\n",
    "        rrate_out[j]=rrate*3.6e-3\n",
    "\n",
    "def calcZkuR(rwc,Deq_r,bscat_r,ext_r,scat_r,g_r,vfall_r,mu,wl,fract):\n",
    "    Nw=rwc.copy()*0+0.08e8\n",
    "    dm=(4**4*rwc/(np.pi*fract*1e6*Nw))**0.25*1e3 # in mm\n",
    "    nwr=rwc.copy()*0.0+Nw\n",
    "    w_r=rwc.copy()*0.0\n",
    "    prate_r=rwc.copy()*0.0\n",
    "    z_r=rwc.copy()*0.0\n",
    "    att_r=rwc.copy()*0.0\n",
    "    dm_r=rwc.copy()*0.0\n",
    "    kext_out_r=rwc.copy()*0.0\n",
    "    kscat_out_r=rwc.copy()*0.0\n",
    "    g_out_r=rwc.copy()*0.0\n",
    "    lambd=(4+mu)/dm\n",
    "    get_Zn(rwc,nwr,lambd,w_r,z_r,att_r,dm,dm_r,\\\n",
    "           prate_r,kext_out_r,kscat_out_r,g_out_r,Deq_r,bscat_r[4,:],ext_r[4,:],\\\n",
    "           scat_r[4,:],g_r[4,:],\\\n",
    "           vfall_r,mu,wl,fract)\n",
    "    #print(rwc.mean())\n",
    "    #print(w_r.mean())\n",
    "    return nwr,z_r,att_r,prate_r,kext_out_r,kscat_out_r,g_out_r,dm_r,w_r\n",
    "\n",
    "def calcZkuS(rwc,Deq_r,bscat_r,ext_r,scat_r,g_r,vfall_r,mu,wl,itemp,ifract,fract):\n",
    "    Nw=rwc.copy()*0+0.08e8\n",
    "    dm=(4**4*rwc/(np.pi*fract*1e6*Nw))**0.25*1e3 # in mm\n",
    "    nwr=rwc.copy()*0.0+Nw\n",
    "    w_r=rwc.copy()*0.0\n",
    "    prate_r=rwc.copy()*0.0\n",
    "    z_r=rwc.copy()*0.0\n",
    "    att_r=rwc.copy()*0.0\n",
    "    dm_r=rwc.copy()*0.0\n",
    "    kext_out_r=rwc.copy()*0.0\n",
    "    kscat_out_r=rwc.copy()*0.0\n",
    "    g_out_r=rwc.copy()*0.0\n",
    "    lambd=(4+mu)/dm\n",
    "    get_Zn(rwc,nwr,lambd,w_r,z_r,att_r,dm,dm_r,\\\n",
    "           prate_r,kext_out_r,kscat_out_r,g_out_r,Deq_r[ifract,:],bscat_r[itemp,ifract,:],ext_r[itemp,ifract,:],\\\n",
    "           scat_r[itemp,ifract,:],g_r[itemp,ifract,:],\\\n",
    "           vfall_r[ifract,:],mu,wl,fract)\n",
    "    #get_Zn(rwc,nwr,lambd,w_s,z_s,att_s,dm,dm_s,\\\n",
    "    #       prate_s,Deq[14,:],bscat[3,14,:],ext[3,14,:],vfall[3,:],mu,wl)\n",
    "    #print(rwc.mean())\n",
    "    #print(w_r.mean())\n",
    "    return nwr,z_r,att_r,prate_r,kext_out_r,kscat_out_r,g_out_r,dm_r,w_r"
   ]
  },
  {
   "cell_type": "code",
   "execution_count": 84,
   "metadata": {},
   "outputs": [
    {
     "name": "stdout",
     "output_type": "stream",
     "text": [
      "13.8 13.8\n",
      "183.31 183.31\n",
      "325.15 325.15\n",
      "35 35\n",
      "94 94\n"
     ]
    }
   ],
   "source": [
    "rwc=(np.logspace(-3,1.5,300))\n",
    "#print(rwc)\n",
    "mu=2.0\n",
    "freqL=[]\n",
    "dmR=[]\n",
    "dmI=[]\n",
    "kScatR=[]\n",
    "kScatI=[]\n",
    "kExtR=[]\n",
    "kExtI=[]\n",
    "gRL=[]\n",
    "gIL=[]\n",
    "zR=[]\n",
    "zI=[]\n",
    "swcL=[]\n",
    "rwcL=[]\n",
    "for f1,f2 in zip(fss,fsr):\n",
    "    #print(f1,f2)\n",
    "    freq1=f1.split(\"_\")[1].split(\"-GHz\")[0]\n",
    "    freq2=f2.split(\"_\")[1].split(\"-GHz\")[0]\n",
    "    print(freq1,freq2)\n",
    "    tempI,massI,fractionI,bscatI,DeqI,extI,scatI,gI,vfallI=readScatProf(f1)\n",
    "    tempR,massR,bscatR,DeqR,extR,scatR,gR,vfallR,fh=readScatProfR(f2)\n",
    "    freqL.append(float(freq1))\n",
    "    wl=300/float(freq1)\n",
    "    fract=1.0\n",
    "    nwr,z_r,att_r,prate_r,kext_out_r,kscat_out_r,g_out_r,dm_r,w_r=calcZkuR(rwc,DeqR,bscatR,extR,scatR,gR,vfallR,mu,wl,fract)\n",
    "    dmR.append(dm_r)\n",
    "    kScatR.append(kscat_out_r)\n",
    "    kExtR.append(kext_out_r)\n",
    "    gRL.append(g_out_r)\n",
    "    zR.append(z_r)\n",
    "    rwcL.append(w_r)\n",
    "    itemp,ifraction=3,5\n",
    "    fract=1.0\n",
    "    nws,z_s,att_s,prate_s,kext_out_s,kscat_out_s,g_out_s,dm_s,w_s=calcZkuS(rwc,DeqI,bscatI,extI,scatI,gI,vfallI,mu,wl,itemp,ifraction,fract)\n",
    "    dmI.append(dm_s)\n",
    "    kScatI.append(kscat_out_s)\n",
    "    kExtI.append(kext_out_s)\n",
    "    gIL.append(g_out_s)\n",
    "    zI.append(z_s)\n",
    "    swcL.append(w_s)\n"
   ]
  },
  {
   "cell_type": "code",
   "execution_count": 88,
   "metadata": {},
   "outputs": [],
   "source": [
    "import xarray as xr\n",
    "\n",
    "ds=xr.Dataset({'dmR':(['freq','pwc'],np.array(dmR)),'dmI':(['freq','pwc'],np.array(dmI)),\\\n",
    "                'kScatR':(['freq','pwc'],np.array(kScatR)),'kScatI':(['freq','pwc'],np.array(kScatI)),\\\n",
    "                'kExtR':(['freq','pwc'],np.array(kExtR)),'kExtI':(['freq','pwc'],np.array(kExtI)),\\\n",
    "                'gR':(['freq','pwc'],np.array(gRL)),'gI':(['freq','pwc'],np.array(gIL)),\\\n",
    "                'zR':(['freq','pwc'],np.array(zR)),'zI':(['freq','pwc'],np.array(zI)),\\\n",
    "                'swc':(['freq','pwc'],np.array(swcL)),'rwc':(['freq','pwc'],np.array(rwcL))},\\\n",
    "                coords={'freq':freqL,'pwc':rwc})\n",
    "\n",
    "ds.to_netcdf('scatPropSSRG.nc',encoding={'dmR':{'dtype':'float32','zlib':True,'complevel':5},\\\n",
    "                                        'dmI':{'dtype':'float32','zlib':True,'complevel':5},\\\n",
    "                                        'kScatR':{'dtype':'float32','zlib':True,'complevel':5},\\\n",
    "                                        'kScatI':{'dtype':'float32','zlib':True,'complevel':5},\\\n",
    "                                        'kExtR':{'dtype':'float32','zlib':True,'complevel':5},\\\n",
    "                                        'kExtI':{'dtype':'float32','zlib':True,'complevel':5},\\\n",
    "                                        'gR':{'dtype':'float32','zlib':True,'complevel':5},\\\n",
    "                                        'gI':{'dtype':'float32','zlib':True,'complevel':5},\\\n",
    "                                        'zR':{'dtype':'float32','zlib':True,'complevel':5},\\\n",
    "                                        'zI':{'dtype':'float32','zlib':True,'complevel':5},\\\n",
    "                                        'swc':{'dtype':'float32','zlib':True,'complevel':5},\\\n",
    "                                        'rwc':{'dtype':'float32','zlib':True,'complevel':5}})\n"
   ]
  },
  {
   "cell_type": "code",
   "execution_count": 64,
   "metadata": {},
   "outputs": [
    {
     "name": "stdout",
     "output_type": "stream",
     "text": [
      "24.678910454824894 19.064448658753243\n"
     ]
    },
    {
     "data": {
      "text/plain": [
       "[<matplotlib.lines.Line2D at 0x1387fc970>]"
      ]
     },
     "execution_count": 64,
     "metadata": {},
     "output_type": "execute_result"
    },
    {
     "data": {
      "image/png": "[encoded data removed]",
      "text/plain": [
       "<Figure size 640x480 with 1 Axes>"
      ]
     },
     "metadata": {},
     "output_type": "display_data"
    }
   ],
   "source": [
    "#plt.plot(rwc,w_s/rwc)\n",
    "print(z_r[100],z_s[100])\n",
    "#plt.plot(z_r)\n",
    "plt.plot(z_s)\n"
   ]
  },
  {
   "cell_type": "code",
   "execution_count": 79,
   "metadata": {},
   "outputs": [
    {
     "name": "stdout",
     "output_type": "stream",
     "text": [
      "dict_keys(['kextG', 'kextS', 'kextH', 'kextR', 'salbG', 'salbS', 'salbH', 'salbR', 'asymG', 'asymS', 'asymH', 'asymR', 'dmr', 'dms', 'dmg', 'dmh', 'rwc', 'swc', 'gwc', 'hwc', 'rainRate', 'snowRate', 'graupRate', 'hailRate', 'zKuR', 'zKuS', 'zKuG', 'zKuH', 'zKaR', 'zKaS', 'zKaG', 'zKaH', 'attKuR', 'attKuS', 'attKuG', 'attKuH', 'attKaR', 'attKaS', 'attKaG'])\n"
     ]
    },
    {
     "data": {
      "text/plain": [
       "[<matplotlib.lines.Line2D at 0x139741520>]"
      ]
     },
     "execution_count": 79,
     "metadata": {},
     "output_type": "execute_result"
    },
    {
     "data": {
      "image/png": "[encoded data removed]",
      "text/plain": [
       "<Figure size 640x480 with 1 Axes>"
      ]
     },
     "metadata": {},
     "output_type": "display_data"
    }
   ],
   "source": [
    "#print(z_r)\n",
    "#print(DeqR)\n",
    "#print(z_r[0:5],dm_r[0:5],rwc[0:5])\n",
    "#print(z_r[-5:],dm_r[-5:],rwc[-5:])\n",
    "import matplotlib.pyplot as plt\n",
    "import netCDF4 as nc\n",
    "with nc.Dataset(\"/Users/mgrecu/myPythonPackages/lookupTables/scatteringTablesGPM.nc\") as f:\n",
    "    print(f.variables.keys())\n",
    "    rwcDPR=f[\"rwc\"][:]\n",
    "    zKuR=f[\"zKuR\"][:]\n",
    "    attKuR=f[\"attKuR\"][:]\n",
    "    swcDPR=f[\"swc\"][:]\n",
    "    zKuS=f[\"zKuS\"][:]\n",
    "\n",
    "#plt.semilogx(attKuR[100:273],zKuR[100:273])\n",
    "#plt.semilogx(att_r[:],z_r[:])\n",
    "plt.semilogx(swcDPR[:253],zKuS[:253])\n",
    "plt.semilogx(w_s,z_s)\n",
    "#plt.semilogx(w_r[:],z_r[:273])\n",
    "#plt.ylim(40,50)\n",
    "#plt.xlim(1,3)\n",
    "#plt.grid()"
   ]
  }
 ],
 "metadata": {
  "kernelspec": {
   "display_name": "base",
   "language": "python",
   "name": "python3"
  },
  "language_info": {
   "codemirror_mode": {
    "name": "ipython",
    "version": 3
   },
   "file_extension": ".py",
   "mimetype": "text/x-python",
   "name": "python",
   "nbconvert_exporter": "python",
   "pygments_lexer": "ipython3",
   "version": "3.9.13"
  }
 },
 "nbformat": 4,
 "nbformat_minor": 2
}
